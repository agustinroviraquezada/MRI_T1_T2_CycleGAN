{
  "nbformat": 4,
  "nbformat_minor": 0,
  "metadata": {
    "colab": {
      "provenance": []
    },
    "kernelspec": {
      "name": "python3",
      "display_name": "Python 3"
    },
    "language_info": {
      "name": "python"
    }
  },
  "cells": [
    {
      "cell_type": "markdown",
      "source": [
        "## Mount drive"
      ],
      "metadata": {
        "id": "mBSEDXHoJgIJ"
      }
    },
    {
      "cell_type": "code",
      "execution_count": null,
      "metadata": {
        "id": "lFJDiuCCJLE6"
      },
      "outputs": [],
      "source": [
        "import os \n",
        "import shutil\n",
        "import matplotlib.pyplot as plt\n",
        "import numpy as np\n",
        "from google.colab import drive\n",
        "drive.mount('/content/drive')"
      ]
    },
    {
      "cell_type": "markdown",
      "source": [
        "## Install package and get examples"
      ],
      "metadata": {
        "id": "YrE93n2oJk1Q"
      }
    },
    {
      "cell_type": "code",
      "source": [
        "project_pat=\"/content/drive/MyDrive/TFM_3\"\n",
        "if os.path.exists(project_pat):\n",
        "    shutil.rmtree(project_pat)\n",
        "!git clone https://github.com/agustinroviraquezada/MRI_T1_T2_CycleGAN.git  $project_pat\n",
        "\n",
        "\n",
        "requirements= project_pat+\"/requirements.txt\"\n",
        "!pip install -r $requirements -q"
      ],
      "metadata": {
        "id": "2Org3C8PJPHZ"
      },
      "execution_count": null,
      "outputs": []
    },
    {
      "cell_type": "markdown",
      "source": [
        "## Get the synthetic image"
      ],
      "metadata": {
        "id": "qjSZm1IeJoSB"
      }
    },
    {
      "cell_type": "code",
      "source": [
        "input=project_pat+\"/examples/BraTS20_Train_2_60_t1.npy\"\n",
        "model=project_pat+\"/Models/Optimized_model_0.690-290.ckpt\"\n",
        "!python /content/drive/MyDrive/TFM_3/cycle/generation.py --input $input --model $model"
      ],
      "metadata": {
        "id": "LFk7GYz0JTUZ"
      },
      "execution_count": null,
      "outputs": []
    },
    {
      "cell_type": "code",
      "source": [
        "g_path=project_pat+\"/examples/BraTS20_Train_2_60_t1_generated.npy\"\n",
        "image=np.load(g_path)\n",
        "plt.imshow(image,cmap=\"gray\")"
      ],
      "metadata": {
        "id": "gUg-v51_JsRI"
      },
      "execution_count": null,
      "outputs": []
    },
    {
      "cell_type": "markdown",
      "source": [
        "The examples provided here were extracted from the Brats 2020 dataset. Slices were taken from subject 2 of the training set and the matrix was transposed to obtain the current view (important step). Additionally, the examples from the test set underwent the entire processing pipeline.\n",
        "\n",
        "When generating the synthetic image, the script removes the black borders as they can affect the synthesis. If you try using different images, you will notice that the resulting size is 128 x 128, with the black borders reduced. This is important step since the black margins affects to the synthesis\n",
        "\n",
        "It is strongly recommended to apply HD-BET before synthesis in order to remove the skull. If a different procedure is used, the resulting outcome may not be guaranteed.\n",
        "\n",
        "Finally, as the focus is on obtaining synthetic T2 images, the generation.py script specifically converts T1 images to T2."
      ],
      "metadata": {
        "id": "0DM_Dz8cKm_g"
      }
    }
  ]
}